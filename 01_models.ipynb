{
 "cells": [
  {
   "cell_type": "markdown",
   "metadata": {},
   "source": [
    "# DCGAN\n",
    "> Defines the DCGAN architecture"
   ]
  },
  {
   "cell_type": "code",
   "execution_count": null,
   "metadata": {},
   "outputs": [
    {
     "name": "stdout",
     "output_type": "stream",
     "text": [
      "\u001b[K     |████████████████████████████████| 727kB 10.3MB/s \n",
      "\u001b[K     |████████████████████████████████| 1.0MB 41.9MB/s \n",
      "\u001b[K     |████████████████████████████████| 194kB 50.1MB/s \n",
      "\u001b[K     |████████████████████████████████| 51kB 7.2MB/s \n",
      "\u001b[K     |████████████████████████████████| 51kB 7.0MB/s \n",
      "\u001b[K     |████████████████████████████████| 51kB 6.8MB/s \n",
      "\u001b[K     |████████████████████████████████| 40kB 5.3MB/s \n",
      "\u001b[K     |████████████████████████████████| 92kB 11.0MB/s \n",
      "\u001b[K     |████████████████████████████████| 61kB 8.1MB/s \n",
      "\u001b[K     |████████████████████████████████| 51kB 7.1MB/s \n",
      "\u001b[K     |████████████████████████████████| 2.6MB 49.2MB/s \n",
      "\u001b[?25h"
     ]
    }
   ],
   "source": [
    "#hide\n",
    "IN_COLAB = 'google.colab' in str(get_ipython())\n",
    "if IN_COLAB:\n",
    "  !pip3 install -Uqq fastbook"
   ]
  },
  {
   "cell_type": "code",
   "execution_count": null,
   "metadata": {},
   "outputs": [],
   "source": [
    "#hide\n",
    "if IN_COLAB:\n",
    "  from pathlib import Path\n",
    "  from nbdev.imports import Config\n",
    "  project_path = Path('/content/drive/My Drive/Colab Notebooks/github/dcgan')\n",
    "  get_ipython().magic(f'cd {project_path}')\n",
    "  get_ipython().magic(f'cd {Config().nbs_path}')"
   ]
  },
  {
   "cell_type": "code",
   "execution_count": null,
   "metadata": {},
   "outputs": [],
   "source": [
    "# default_exp models"
   ]
  },
  {
   "cell_type": "code",
   "execution_count": null,
   "metadata": {},
   "outputs": [],
   "source": [
    "#hide\n",
    "from nbdev.showdoc import *"
   ]
  },
  {
   "cell_type": "code",
   "execution_count": null,
   "metadata": {},
   "outputs": [],
   "source": [
    "#export\n",
    "from fastai.vision.all import *"
   ]
  },
  {
   "cell_type": "markdown",
   "metadata": {},
   "source": [
    "## Generator"
   ]
  },
  {
   "cell_type": "code",
   "execution_count": null,
   "metadata": {},
   "outputs": [],
   "source": [
    "#export\n",
    "def build_conv_layer(ch_in:int,\n",
    "                     ch_out:int,\n",
    "                     ks:int,\n",
    "                     stride:int,\n",
    "                     padding:int=0,\n",
    "                     bias:bool=True,\n",
    "                     transpose:bool=False,\n",
    "                     mean_weight:float=0.0,\n",
    "                     std_weight:float=0.02\n",
    "                     ):\n",
    "  if transpose:\n",
    "    conv = nn.ConvTranspose2d(ch_in,\n",
    "                              ch_out,\n",
    "                              ks,\n",
    "                              stride,\n",
    "                              padding,\n",
    "                              bias=bias\n",
    "                              )\n",
    "  else:\n",
    "    conv = nn.Conv2d(ch_in,\n",
    "                     ch_out,\n",
    "                     ks,\n",
    "                     stride,\n",
    "                     padding,\n",
    "                     bias=bias\n",
    "                     )\n",
    "    \n",
    "  nn.init.normal_(conv.weight, mean_weight, std_weight)\n",
    "  return conv"
   ]
  },
  {
   "cell_type": "code",
   "execution_count": null,
   "metadata": {},
   "outputs": [],
   "source": [
    "#export\n",
    "def build_bn(ch_in:int, \n",
    "             mean_weight:float=0.0,\n",
    "             std_weight:float=0.02,\n",
    "             bias_const:float=0.0\n",
    "             ):\n",
    "  bn = nn.BatchNorm2d(ch_in)\n",
    "  nn.init.normal_(bn.weight, mean_weight, std_weight)\n",
    "  nn.init.constant_(bn.bias, bias_const)\n",
    "  return bn"
   ]
  },
  {
   "cell_type": "code",
   "execution_count": null,
   "metadata": {},
   "outputs": [],
   "source": [
    "#export\n",
    "def dcgan_generator(z_dim:int,\n",
    "                    ch_in:int,\n",
    "                    hidden_dim:int\n",
    "                    ):\n",
    "  layers = []\n",
    "  layers += build_mnist_gen_arch(z_dim, ch_in, hidden_dim)\n",
    "\n",
    "  return nn.Sequential(*layers)\n",
    "\n",
    "def build_mnist_gen_arch(z_dim:int,\n",
    "                         ch_in:int,\n",
    "                         hidden_dim:int\n",
    "                         ):\n",
    "  \n",
    "  layers = [build_conv_layer(z_dim, hidden_dim * 4, ks=3, stride=2, bias=False, transpose=True),\n",
    "            build_bn(hidden_dim * 4),\n",
    "            nn.ReLU(),\n",
    "            build_conv_layer(hidden_dim * 4, hidden_dim * 2, ks=4, stride=1, bias=False, transpose=True),\n",
    "            build_bn(hidden_dim * 2),\n",
    "            nn.ReLU(),\n",
    "            build_conv_layer(hidden_dim * 2, hidden_dim,  ks=3, stride=2, bias=False, transpose=True),\n",
    "            build_bn(hidden_dim),\n",
    "            nn.ReLU(),\n",
    "            build_conv_layer(hidden_dim, ch_in, ks=4, stride=2, bias=False, transpose=True),\n",
    "            nn.Tanh()]\n",
    "\n",
    "  return layers"
   ]
  },
  {
   "cell_type": "markdown",
   "metadata": {},
   "source": [
    "### Tests"
   ]
  },
  {
   "cell_type": "code",
   "execution_count": null,
   "metadata": {},
   "outputs": [],
   "source": [
    "noise = torch.randn(1, 64, 1, 1)\n",
    "m     = dcgan_generator(z_dim=64, \n",
    "                        ch_in=1, \n",
    "                        hidden_dim=64)\n",
    "\n",
    "with torch.no_grad():\n",
    "  out = m(noise)\n",
    "\n",
    "test_eq(out.shape, (1, 1, 28, 28))"
   ]
  },
  {
   "cell_type": "markdown",
   "metadata": {},
   "source": [
    "## Discriminator"
   ]
  },
  {
   "cell_type": "code",
   "execution_count": null,
   "metadata": {},
   "outputs": [],
   "source": [
    "#export\n",
    "def dcgan_discriminator(ch_in:int,\n",
    "                        hidden_dim:int\n",
    "                        ):\n",
    "  layers = []\n",
    "  layers += build_mnist_disc_arch(ch_in, hidden_dim)\n",
    "\n",
    "  return nn.Sequential(*layers)\n",
    "\n",
    "def build_mnist_disc_arch(ch_in:int,\n",
    "                          hidden_dim:int\n",
    "                          ):\n",
    "  \n",
    "  out_units = 1 # since discriminator has to estimate real/fake (binary) probability\n",
    "  layers = [build_conv_layer(ch_in, hidden_dim, ks=4, stride=2, bias=False),\n",
    "            build_bn(hidden_dim),\n",
    "            nn.LeakyReLU(negative_slope=0.2),\n",
    "            build_conv_layer(hidden_dim, hidden_dim * 2, ks=4, stride=2, bias=False),\n",
    "            build_bn(hidden_dim * 2),\n",
    "            nn.LeakyReLU(negative_slope=0.2),\n",
    "            build_conv_layer(hidden_dim * 2, 1, ks=4, stride=2, bias=False)]\n",
    "  return layers"
   ]
  },
  {
   "cell_type": "markdown",
   "metadata": {},
   "source": [
    "### Tests"
   ]
  },
  {
   "cell_type": "code",
   "execution_count": null,
   "metadata": {},
   "outputs": [],
   "source": [
    "img = torch.randn(1, 1, 28, 28)\n",
    "m   = dcgan_discriminator(ch_in=1, hidden_dim=16)\n",
    "\n",
    "with torch.no_grad():\n",
    "  out = m(img)\n",
    "\n",
    "test_eq(out.shape, (1, 1, 1, 1))"
   ]
  },
  {
   "cell_type": "markdown",
   "metadata": {},
   "source": [
    "## Full Model"
   ]
  },
  {
   "cell_type": "code",
   "execution_count": null,
   "metadata": {},
   "outputs": [],
   "source": [
    "#export\n",
    "class DCGAN(nn.Module):\n",
    "  def __init__(self, \n",
    "               ch_in:int, \n",
    "               z_dim:int, \n",
    "               gen_hidden_dim:int=64, \n",
    "               disc_hidden_dim:int=16):\n",
    "    \n",
    "    super().__init__()\n",
    "\n",
    "    self.D = dcgan_discriminator(ch_in=ch_in, \n",
    "                                 hidden_dim=disc_hidden_dim)\n",
    "    self.G = dcgan_generator(z_dim=z_dim, \n",
    "                             ch_in=ch_in, \n",
    "                             hidden_dim=gen_hidden_dim)\n",
    "\n",
    "  def forward(self, noise, real_image):\n",
    "    fake_image = self.G(noise)\n",
    "\n",
    "    return fake_image"
   ]
  },
  {
   "cell_type": "markdown",
   "metadata": {},
   "source": [
    "### Tests"
   ]
  },
  {
   "cell_type": "code",
   "execution_count": null,
   "metadata": {},
   "outputs": [],
   "source": [
    "dcgan_model = DCGAN(ch_in=1, z_dim=64) # z_dim: dimension of the random noise vector\n",
    "\n",
    "img1 = torch.randn(4,64,1,1)\n",
    "img2 = torch.randn(4,1,28,28)"
   ]
  },
  {
   "cell_type": "code",
   "execution_count": null,
   "metadata": {},
   "outputs": [
    {
     "name": "stdout",
     "output_type": "stream",
     "text": [
      "CPU times: user 11.8 ms, sys: 974 µs, total: 12.8 ms\n",
      "Wall time: 13.9 ms\n"
     ]
    }
   ],
   "source": [
    "%%time\n",
    "with torch.no_grad(): dcgan_output = dcgan_model(img1, img2)"
   ]
  },
  {
   "cell_type": "code",
   "execution_count": null,
   "metadata": {},
   "outputs": [],
   "source": [
    "test_eq(len(dcgan_output), 4)\n",
    "test_eq(dcgan_output.shape, img2.shape)"
   ]
  },
  {
   "cell_type": "code",
   "execution_count": null,
   "metadata": {},
   "outputs": [
    {
     "name": "stdout",
     "output_type": "stream",
     "text": [
      "Converted 00_data.ipynb.\n",
      "Converted 01_models.ipynb.\n",
      "Converted index.ipynb.\n"
     ]
    }
   ],
   "source": [
    "#hide\n",
    "from nbdev.export import notebook2script\n",
    "notebook2script()"
   ]
  }
 ],
 "metadata": {
  "kernelspec": {
   "display_name": "Python 3",
   "name": "python3"
  }
 },
 "nbformat": 4,
 "nbformat_minor": 0
}
