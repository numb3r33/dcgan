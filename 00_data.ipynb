{
 "cells": [
  {
   "cell_type": "markdown",
   "metadata": {},
   "source": [
    "# DCGAN Data Preparation"
   ]
  },
  {
   "cell_type": "code",
   "execution_count": null,
   "metadata": {},
   "outputs": [
    {
     "name": "stdout",
     "output_type": "stream",
     "text": [
      "\u001b[?25l\r\u001b[K     |▌                               | 10kB 30.7MB/s eta 0:00:01\r\u001b[K     |█                               | 20kB 26.6MB/s eta 0:00:01\r\u001b[K     |█▍                              | 30kB 18.3MB/s eta 0:00:01\r\u001b[K     |█▉                              | 40kB 17.1MB/s eta 0:00:01\r\u001b[K     |██▎                             | 51kB 13.2MB/s eta 0:00:01\r\u001b[K     |██▊                             | 61kB 12.5MB/s eta 0:00:01\r\u001b[K     |███▏                            | 71kB 11.6MB/s eta 0:00:01\r\u001b[K     |███▋                            | 81kB 11.5MB/s eta 0:00:01\r\u001b[K     |████                            | 92kB 11.6MB/s eta 0:00:01\r\u001b[K     |████▌                           | 102kB 11.7MB/s eta 0:00:01\r\u001b[K     |█████                           | 112kB 11.7MB/s eta 0:00:01\r\u001b[K     |█████▌                          | 122kB 11.7MB/s eta 0:00:01\r\u001b[K     |██████                          | 133kB 11.7MB/s eta 0:00:01\r\u001b[K     |██████▍                         | 143kB 11.7MB/s eta 0:00:01\r\u001b[K     |██████▉                         | 153kB 11.7MB/s eta 0:00:01\r\u001b[K     |███████▎                        | 163kB 11.7MB/s eta 0:00:01\r\u001b[K     |███████▊                        | 174kB 11.7MB/s eta 0:00:01\r\u001b[K     |████████▏                       | 184kB 11.7MB/s eta 0:00:01\r\u001b[K     |████████▋                       | 194kB 11.7MB/s eta 0:00:01\r\u001b[K     |█████████                       | 204kB 11.7MB/s eta 0:00:01\r\u001b[K     |█████████▋                      | 215kB 11.7MB/s eta 0:00:01\r\u001b[K     |██████████                      | 225kB 11.7MB/s eta 0:00:01\r\u001b[K     |██████████▌                     | 235kB 11.7MB/s eta 0:00:01\r\u001b[K     |███████████                     | 245kB 11.7MB/s eta 0:00:01\r\u001b[K     |███████████▍                    | 256kB 11.7MB/s eta 0:00:01\r\u001b[K     |███████████▉                    | 266kB 11.7MB/s eta 0:00:01\r\u001b[K     |████████████▎                   | 276kB 11.7MB/s eta 0:00:01\r\u001b[K     |████████████▊                   | 286kB 11.7MB/s eta 0:00:01\r\u001b[K     |█████████████▏                  | 296kB 11.7MB/s eta 0:00:01\r\u001b[K     |█████████████▋                  | 307kB 11.7MB/s eta 0:00:01\r\u001b[K     |██████████████▏                 | 317kB 11.7MB/s eta 0:00:01\r\u001b[K     |██████████████▋                 | 327kB 11.7MB/s eta 0:00:01\r\u001b[K     |███████████████                 | 337kB 11.7MB/s eta 0:00:01\r\u001b[K     |███████████████▌                | 348kB 11.7MB/s eta 0:00:01\r\u001b[K     |████████████████                | 358kB 11.7MB/s eta 0:00:01\r\u001b[K     |████████████████▍               | 368kB 11.7MB/s eta 0:00:01\r\u001b[K     |████████████████▉               | 378kB 11.7MB/s eta 0:00:01\r\u001b[K     |█████████████████▎              | 389kB 11.7MB/s eta 0:00:01\r\u001b[K     |█████████████████▊              | 399kB 11.7MB/s eta 0:00:01\r\u001b[K     |██████████████████▏             | 409kB 11.7MB/s eta 0:00:01\r\u001b[K     |██████████████████▊             | 419kB 11.7MB/s eta 0:00:01\r\u001b[K     |███████████████████▏            | 430kB 11.7MB/s eta 0:00:01\r\u001b[K     |███████████████████▋            | 440kB 11.7MB/s eta 0:00:01\r\u001b[K     |████████████████████            | 450kB 11.7MB/s eta 0:00:01\r\u001b[K     |████████████████████▌           | 460kB 11.7MB/s eta 0:00:01\r\u001b[K     |█████████████████████           | 471kB 11.7MB/s eta 0:00:01\r\u001b[K     |█████████████████████▍          | 481kB 11.7MB/s eta 0:00:01\r\u001b[K     |█████████████████████▉          | 491kB 11.7MB/s eta 0:00:01\r\u001b[K     |██████████████████████▎         | 501kB 11.7MB/s eta 0:00:01\r\u001b[K     |██████████████████████▊         | 512kB 11.7MB/s eta 0:00:01\r\u001b[K     |███████████████████████▎        | 522kB 11.7MB/s eta 0:00:01\r\u001b[K     |███████████████████████▊        | 532kB 11.7MB/s eta 0:00:01\r\u001b[K     |████████████████████████▏       | 542kB 11.7MB/s eta 0:00:01\r\u001b[K     |████████████████████████▋       | 552kB 11.7MB/s eta 0:00:01\r\u001b[K     |█████████████████████████       | 563kB 11.7MB/s eta 0:00:01\r\u001b[K     |█████████████████████████▌      | 573kB 11.7MB/s eta 0:00:01\r\u001b[K     |██████████████████████████      | 583kB 11.7MB/s eta 0:00:01\r\u001b[K     |██████████████████████████▍     | 593kB 11.7MB/s eta 0:00:01\r\u001b[K     |██████████████████████████▉     | 604kB 11.7MB/s eta 0:00:01\r\u001b[K     |███████████████████████████▎    | 614kB 11.7MB/s eta 0:00:01\r\u001b[K     |███████████████████████████▉    | 624kB 11.7MB/s eta 0:00:01\r\u001b[K     |████████████████████████████▎   | 634kB 11.7MB/s eta 0:00:01\r\u001b[K     |████████████████████████████▊   | 645kB 11.7MB/s eta 0:00:01\r\u001b[K     |█████████████████████████████▏  | 655kB 11.7MB/s eta 0:00:01\r\u001b[K     |█████████████████████████████▋  | 665kB 11.7MB/s eta 0:00:01\r\u001b[K     |██████████████████████████████  | 675kB 11.7MB/s eta 0:00:01\r\u001b[K     |██████████████████████████████▌ | 686kB 11.7MB/s eta 0:00:01\r\u001b[K     |███████████████████████████████ | 696kB 11.7MB/s eta 0:00:01\r\u001b[K     |███████████████████████████████▍| 706kB 11.7MB/s eta 0:00:01\r\u001b[K     |███████████████████████████████▉| 716kB 11.7MB/s eta 0:00:01\r\u001b[K     |████████████████████████████████| 727kB 11.7MB/s \n",
      "\u001b[K     |████████████████████████████████| 51kB 5.4MB/s \n",
      "\u001b[K     |████████████████████████████████| 194kB 56.9MB/s \n",
      "\u001b[K     |████████████████████████████████| 51kB 8.9MB/s \n",
      "\u001b[K     |████████████████████████████████| 1.0MB 52.9MB/s \n",
      "\u001b[K     |████████████████████████████████| 51kB 7.2MB/s \n",
      "\u001b[K     |████████████████████████████████| 92kB 12.8MB/s \n",
      "\u001b[K     |████████████████████████████████| 40kB 7.7MB/s \n",
      "\u001b[K     |████████████████████████████████| 51kB 8.5MB/s \n",
      "\u001b[K     |████████████████████████████████| 61kB 10.5MB/s \n",
      "\u001b[K     |████████████████████████████████| 2.6MB 60.2MB/s \n",
      "\u001b[?25h"
     ]
    }
   ],
   "source": [
    "#hide\n",
    "IN_COLAB = 'google.colab' in str(get_ipython())\n",
    "if IN_COLAB:\n",
    "  !pip3 install -Uqq fastbook"
   ]
  },
  {
   "cell_type": "code",
   "execution_count": null,
   "metadata": {},
   "outputs": [],
   "source": [
    "#hide\n",
    "if IN_COLAB:\n",
    "  from pathlib import Path\n",
    "  from nbdev.imports import Config\n",
    "  project_path = Path('/content/drive/My Drive/Colab Notebooks/github/dcgan')\n",
    "  get_ipython().magic(f'cd {project_path}')\n",
    "  get_ipython().magic(f'cd {Config().nbs_path}')"
   ]
  },
  {
   "cell_type": "code",
   "execution_count": null,
   "metadata": {},
   "outputs": [],
   "source": [
    "# default_exp data"
   ]
  },
  {
   "cell_type": "code",
   "execution_count": null,
   "metadata": {},
   "outputs": [],
   "source": [
    "#hide\n",
    "from nbdev.showdoc import *"
   ]
  },
  {
   "cell_type": "code",
   "execution_count": null,
   "metadata": {},
   "outputs": [],
   "source": [
    "#export\n",
    "from fastai.vision.all import *"
   ]
  },
  {
   "cell_type": "markdown",
   "metadata": {},
   "source": [
    "## Dataset ( MNIST )"
   ]
  },
  {
   "cell_type": "code",
   "execution_count": null,
   "metadata": {},
   "outputs": [
    {
     "data": {
      "text/html": [
       ""
      ],
      "text/plain": [
       "<IPython.core.display.HTML object>"
      ]
     },
     "metadata": {
      "tags": []
     },
     "output_type": "display_data"
    }
   ],
   "source": [
    "#slow\n",
    "path = untar_data(URLs.MNIST)"
   ]
  },
  {
   "cell_type": "code",
   "execution_count": null,
   "metadata": {},
   "outputs": [
    {
     "data": {
      "text/plain": [
       "(#2) [Path('/root/.fastai/data/mnist_png/training'),Path('/root/.fastai/data/mnist_png/testing')]"
      ]
     },
     "execution_count": null,
     "metadata": {
      "tags": []
     },
     "output_type": "execute_result"
    }
   ],
   "source": [
    "#slow\n",
    "path.ls()"
   ]
  },
  {
   "cell_type": "code",
   "execution_count": null,
   "metadata": {},
   "outputs": [],
   "source": [
    "#export\n",
    "class InvisibleTensor(TensorBase):\n",
    "    def show(self, ctx=None, **kwargs): return ctx\n",
    "\n",
    "def generate_noise(fn, size=64): return cast(torch.randn(size).view(-1, 1, 1), InvisibleTensor)"
   ]
  },
  {
   "cell_type": "code",
   "execution_count": null,
   "metadata": {},
   "outputs": [],
   "source": [
    "dblock = DataBlock(blocks = (TransformBlock, ImageBlock(cls=PILImageBW)),\n",
    "                   get_x = generate_noise,\n",
    "                   get_items = get_image_files,\n",
    "                   splitter = IndexSplitter([]),\n",
    "                   batch_tfms=Normalize.from_stats(mean=0.5, std=0.5)\n",
    "                   )"
   ]
  },
  {
   "cell_type": "code",
   "execution_count": null,
   "metadata": {},
   "outputs": [],
   "source": [
    "#cuda\n",
    "dls = dblock.dataloaders(path, bs=4)"
   ]
  },
  {
   "cell_type": "code",
   "execution_count": null,
   "metadata": {},
   "outputs": [
    {
     "data": {
      "image/png": "[encoded data removed]",
      "text/plain": [
       "<Figure size 72x72 with 1 Axes>"
      ]
     },
     "metadata": {
      "needs_background": "light",
      "tags": []
     },
     "output_type": "display_data"
    },
    {
     "data": {
      "image/png": "[encoded data removed]",
      "text/plain": [
       "<Figure size 72x72 with 1 Axes>"
      ]
     },
     "metadata": {
      "needs_background": "light",
      "tags": []
     },
     "output_type": "display_data"
    },
    {
     "data": {
      "image/png": "[encoded data removed]",
      "text/plain": [
       "<Figure size 72x72 with 1 Axes>"
      ]
     },
     "metadata": {
      "needs_background": "light",
      "tags": []
     },
     "output_type": "display_data"
    },
    {
     "data": {
      "image/png": "[encoded data removed]",
      "text/plain": [
       "<Figure size 72x72 with 1 Axes>"
      ]
     },
     "metadata": {
      "needs_background": "light",
      "tags": []
     },
     "output_type": "display_data"
    }
   ],
   "source": [
    "#cuda\n",
    "dls.show_batch()"
   ]
  },
  {
   "cell_type": "code",
   "execution_count": null,
   "metadata": {},
   "outputs": [],
   "source": [
    "#export\n",
    "def get_dls(path, bs=4, num_workers=2):\n",
    "    \"\"\"\n",
    "    Given image path, load the images.\n",
    "    Batch size is specified by `bs` (default=4).\n",
    "    \"\"\"\n",
    "    dblock = DataBlock(blocks = (TransformBlock, ImageBlock(cls=PILImageBW)),\n",
    "                       get_x = generate_noise,\n",
    "                       get_items = get_image_files,\n",
    "                       splitter = IndexSplitter([]),\n",
    "                       batch_tfms=Normalize.from_stats(mean=0.5, std=0.5)\n",
    "                   )\n",
    "\n",
    "    dls = dblock.dataloaders(path, path=path, bs=bs, num_workers=num_workers)\n",
    "\n",
    "    return dls"
   ]
  },
  {
   "cell_type": "code",
   "execution_count": null,
   "metadata": {},
   "outputs": [],
   "source": [
    "#cuda\n",
    "dls      = get_dls(path, bs=4)\n",
    "noise, x = dls.one_batch()\n",
    "\n",
    "test_eq(noise.shape, (4, 64, 1, 1))\n",
    "test_eq(x.shape, (4, 1, 28, 28))"
   ]
  },
  {
   "cell_type": "code",
   "execution_count": null,
   "metadata": {},
   "outputs": [
    {
     "name": "stdout",
     "output_type": "stream",
     "text": [
      "Converted 00_data.ipynb.\n",
      "Converted index.ipynb.\n"
     ]
    }
   ],
   "source": [
    "#hide\n",
    "from nbdev.export import notebook2script\n",
    "notebook2script()"
   ]
  }
 ],
 "metadata": {
  "kernelspec": {
   "display_name": "Python 3",
   "language": "python",
   "name": "python3"
  }
 },
 "nbformat": 4,
 "nbformat_minor": 0
}
